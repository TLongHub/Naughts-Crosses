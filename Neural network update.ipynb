{
  "cells": [
    {
      "cell_type": "code",
      "execution_count": null,
      "id": "211c191f",
      "metadata": {
        "id": "211c191f"
      },
      "outputs": [],
      "source": [
        "from numpy import exp, array, random, dot\n",
        "\n",
        "\n",
        "class NeuralNetwork():\n",
        "    def __init__(self):\n",
        "        # Seed the random number generator, so it generates the same numbers\n",
        "        # every time the program runs.\n",
        "        random.seed(2)\n",
        "\n",
        "        # We model a single neuron, with 3 input connections and 1 output connection.\n",
        "        # We assign random weights to a 3 x 1 matrix, with values in the range -1 to 1\n",
        "        # and mean 0.\n",
        "        self.synaptic_weights = 2 * random.random((3, 1)) - 1\n",
        "\n",
        "    # The Sigmoid function, which describes an S shaped curve.\n",
        "    # We pass the weighted sum of the inputs through this function to\n",
        "    # normalise them between 0 and 1.\n",
        "    def __sigmoid(self, x):\n",
        "        return 1 / (1 + exp(-x))\n",
        "\n",
        "    # The derivative of the Sigmoid function.\n",
        "    # This is the gradient of the Sigmoid curve.\n",
        "    # It indicates how confident we are about the existing weight.\n",
        "    def __sigmoid_derivative(self, x):\n",
        "        return x * (1 - x)\n",
        "\n",
        "    # We train the neural network through a process of trial and error.\n",
        "    # Adjusting the synaptic weights each time.\n",
        "    def train(self, training_set_inputs, training_set_outputs, number_of_training_iterations):\n",
        "        for iteration in range(number_of_training_iterations):\n",
        "            # Pass the training set through our neural network (a single neuron).\n",
        "            output = self.think(training_set_inputs)\n",
        "\n",
        "            # Calculate the error (The difference between the desired output\n",
        "            # and the predicted output).\n",
        "            error = training_set_outputs - output\n",
        "\n",
        "            # Multiply the error by the input and again by the gradient of the Sigmoid curve.\n",
        "            # This means less confident weights are adjusted more.\n",
        "            # This means inputs, which are zero, do not cause changes to the weights.\n",
        "            adjustment = dot(training_set_inputs.T, error * self.__sigmoid_derivative(output))\n",
        "\n",
        "            # Adjust the weights.\n",
        "            self.synaptic_weights += adjustment\n",
        "\n",
        "    # The neural network thinks.\n",
        "    def think(self, inputs):\n",
        "        # Pass inputs through our neural network (our single neuron).\n",
        "        return self.__sigmoid(dot(inputs, self.synaptic_weights))\n",
        "\n",
        "if __name__ == \"__main__\":\n",
        "\n",
        "    #Intialise a single neuron neural network.\n",
        "    neural_network = NeuralNetwork()\n",
        "\n",
        "    print(\"Random starting synaptic weights: \")\n",
        "    print(neural_network.synaptic_weights)\n",
        "\n",
        "    # The training set. We have 4 examples, each consisting of 3 input values\n",
        "    # and 1 output value.\n",
        "    training_set_inputs = array([[1, 0, 0], [1, 1, 1], [1, 0, 1], [1, 1, 0], [0, 0, 1], [0, 1, 0]])\n",
        "    training_set_outputs = array([[0, 1, 1, 0, 1, 0]]).T\n",
        "\n",
        "    # Train the neural network using a training set.\n",
        "    # Do it 10,000 times and make small adjustments each time.\n",
        "    neural_network.train(training_set_inputs, training_set_outputs, 100000)\n",
        "\n",
        "    print(\"New synaptic weights after training: \")\n",
        "    print(neural_network.synaptic_weights)\n",
        "\n",
        "    # Test the neural network with a new situation.\n",
        "    print(\"Considering new situation [1, 1, 1] -> ?: \")\n",
        "    print(neural_network.think(array([1, 1, 1])))"
      ]
    },
    {
      "cell_type": "code",
      "execution_count": null,
      "id": "5be2d324",
      "metadata": {
        "id": "5be2d324"
      },
      "outputs": [],
      "source": [
        "import random \n",
        "\n",
        "random.randint(1, 7)"
      ]
    },
    {
      "cell_type": "code",
      "execution_count": null,
      "id": "a428c4ff",
      "metadata": {
        "id": "a428c4ff"
      },
      "outputs": [],
      "source": [
        "def conv_binary(n):\n",
        "    binary = [0, 0, 0]\n",
        "    if n >= 2**2:\n",
        "        n -= 2**2\n",
        "        binary[0] = 1\n",
        "    if n >= 2**1:\n",
        "        n -= 2**1\n",
        "        binary[1] = 1\n",
        "    if n >= 2**0:\n",
        "        n -= 2**0\n",
        "        binary[2] = 1\n",
        "    return array(binary)\n",
        "\n",
        "a = 7\n",
        "\n",
        "print(a, \"modulo 2 ==\", round(neural_network.think(conv_binary(a))[0]))"
      ]
    },
    {
      "cell_type": "code",
      "execution_count": 2,
      "id": "37df0ff5",
      "metadata": {
        "id": "37df0ff5",
        "outputId": "dfd1776d-f7b0-422e-e9c8-8ec61ee947c2",
        "colab": {
          "base_uri": "https://localhost:8080/"
        }
      },
      "outputs": [
        {
          "output_type": "stream",
          "name": "stdout",
          "text": [
            "Random starting synaptic weights: \n",
            "[[-0.1280102 ]\n",
            " [-0.94814754]\n",
            " [ 0.09932496]]\n",
            "New synaptic weights after training: \n",
            "[[-5.39675214]\n",
            " [-5.39676267]\n",
            " [16.33506107]]\n",
            "Considering new situation [1, 0, 0] -> ?: \n",
            "[0.99998224]\n"
          ]
        }
      ],
      "source": [
        "from numpy import exp, array, random, dot\n",
        "\n",
        "\n",
        "class NeuralNetwork():\n",
        "    def __init__(self):\n",
        "        # Seed the random number generator, so it generates the same numbers\n",
        "        # every time the program runs.\n",
        "        random.seed(2)\n",
        "\n",
        "        # We model a single neuron, with 3 input connections and 1 output connection.\n",
        "        # We assign random weights to a 3 x 1 matrix, with values in the range -1 to 1\n",
        "        # and mean 0.\n",
        "        self.synaptic_weights = 2 * random.random((3, 1)) - 1\n",
        "\n",
        "    # The Sigmoid function, which describes an S shaped curve.\n",
        "    # We pass the weighted sum of the inputs through this function to\n",
        "    # normalise them between 0 and 1.\n",
        "    def __sigmoid(self, x):\n",
        "        return 1 / (1 + exp(-x))\n",
        "\n",
        "    # The derivative of the Sigmoid function.\n",
        "    # This is the gradient of the Sigmoid curve.\n",
        "    # It indicates how confident we are about the existing weight.\n",
        "    def __sigmoid_derivative(self, x):\n",
        "        return x * (1 - x)\n",
        "\n",
        "    # We train the neural network through a process of trial and error.\n",
        "    # Adjusting the synaptic weights each time.\n",
        "    def train(self, training_set_inputs, training_set_outputs, number_of_training_iterations):\n",
        "        for iteration in range(number_of_training_iterations):\n",
        "            # Pass the training set through our neural network (a single neuron).\n",
        "            output = self.think(training_set_inputs)\n",
        "\n",
        "            # Calculate the error (The difference between the desired output\n",
        "            # and the predicted output).\n",
        "            error = training_set_outputs - output\n",
        "\n",
        "            # Multiply the error by the input and again by the gradient of the Sigmoid curve.\n",
        "            # This means less confident weights are adjusted more.\n",
        "            # This means inputs, which are zero, do not cause changes to the weights.\n",
        "            adjustment = dot(training_set_inputs.T, error * self.__sigmoid_derivative(output))\n",
        "\n",
        "            # Adjust the weights.\n",
        "            self.synaptic_weights += adjustment\n",
        "\n",
        "    # The neural network thinks.\n",
        "    def think(self, inputs):\n",
        "        # Pass inputs through our neural network (our single neuron).\n",
        "        return self.__sigmoid(dot(inputs, self.synaptic_weights))\n",
        "\n",
        "if __name__ == \"__main__\":\n",
        "\n",
        "    #Intialise a single neuron neural network.\n",
        "    neural_network = NeuralNetwork()\n",
        "\n",
        "    print(\"Random starting synaptic weights: \")\n",
        "    print(neural_network.synaptic_weights)\n",
        "\n",
        "    # The training set. We have 4 examples, each consisting of 3 input values\n",
        "    # and 1 output value.\n",
        "    training_set_inputs = array([[1, 0, 0], [1, 1, 1], [1, 0, 1], [1, 1, 0], [0, 0, 1], [0, 1, 0]])\n",
        "    training_set_outputs = array([[0, 1, 1, 0, 1, 0]]).T\n",
        "\n",
        "    # Train the neural network using a training set.\n",
        "    # Do it 10,000 times and make small adjustments each time.\n",
        "    neural_network.train(training_set_inputs, training_set_outputs, 100000)\n",
        "\n",
        "    print(\"New synaptic weights after training: \")\n",
        "    print(neural_network.synaptic_weights)\n",
        "\n",
        "    # Test the neural network with a new situation.\n",
        "    print(\"Considering new situation [1, 0, 0] -> ?: \")\n",
        "    print(neural_network.think(array([1, 0, 1])))"
      ]
    },
    {
      "cell_type": "markdown",
      "id": "1d0de4f0",
      "metadata": {
        "id": "1d0de4f0"
      },
      "source": [
        "### Ideas for Neural network problems\n",
        "\n",
        "- RGB colour guesser\n",
        "- 21 questions type game (simplified?)\n",
        "- Language detection\n",
        "- Naughts and crosses \n",
        "\n",
        "\n",
        "##### Naughts and crosses\n",
        "- matrix representation [[0,0,0],[0,0,0],[0,0,0]] (empty table)\n",
        "- [[1,-1,-1],[0,1,0],[0,0,1]] (diagonal win)"
      ]
    },
    {
      "cell_type": "code",
      "execution_count": 3,
      "id": "9d7b2532",
      "metadata": {
        "id": "9d7b2532",
        "outputId": "807d592f-1dc6-4aaf-8969-dac125ab9d59",
        "colab": {
          "base_uri": "https://localhost:8080/"
        }
      },
      "outputs": [
        {
          "output_type": "stream",
          "name": "stdout",
          "text": [
            "[[0 0 0]\n",
            " [0 0 0]\n",
            " [0 0 0]]\n",
            "[[ 1 -1 -1]\n",
            " [ 0  1  0]\n",
            " [ 0  0  1]]\n"
          ]
        }
      ],
      "source": [
        "print(array([[0,0,0],[0,0,0],[0,0,0]]))\n",
        "print(array([[1,-1,-1],[0,1,0],[0,0,1]]))"
      ]
    },
    {
      "cell_type": "markdown",
      "id": "ca03b150",
      "metadata": {
        "id": "ca03b150"
      },
      "source": [
        "- 9 bits of input (current table)\n",
        "- 1 bit of output (location of move)\n",
        "- learn to make optimal move\n",
        "- collect data on optimal moves in many different situations (can do this by simulation in python and using memoisation)"
      ]
    },
    {
      "cell_type": "code",
      "execution_count": 4,
      "id": "394473ba",
      "metadata": {
        "id": "394473ba",
        "outputId": "ee2a3d4c-d142-4091-dfbb-9ecf11731dd6",
        "colab": {
          "base_uri": "https://localhost:8080/"
        }
      },
      "outputs": [
        {
          "output_type": "stream",
          "name": "stdout",
          "text": [
            "[['X' 'X' 'O']\n",
            " ['X' None 'O']\n",
            " ['X' 'X' 'O']]\n"
          ]
        },
        {
          "output_type": "execute_result",
          "data": {
            "text/plain": [
              "[True, True]"
            ]
          },
          "metadata": {},
          "execution_count": 4
        }
      ],
      "source": [
        "from numpy import array, random\n",
        "import numpy as np\n",
        "\n",
        "\n",
        "board = array([['X','X','O'],['X', None,'O'],['X','X','O']])\n",
        "print(board)\n",
        "\n",
        "def check_win(board):\n",
        "    \"\"\"Function checks if the current board scenario is a win for Os and Xs.\n",
        "    OUTPUT: (Boolean, Boolean)\n",
        "            (Os win?, Xs win?).\"\"\"\n",
        "    \n",
        "    winnersO = []   # Initialising\n",
        "    winnersX = []\n",
        "    for colrow in range(3):\n",
        "        \n",
        "        if list(board[:,colrow]).count('O') == 3:   # Checking 1s wins (rows and columns)\n",
        "            winnersO.append(True)\n",
        "        else:\n",
        "            winnersO.append(False)\n",
        "        if list(board[colrow,:]).count('O') == 3:\n",
        "            winnersO.append(True)\n",
        "        else:\n",
        "            winnersO.append(False)\n",
        "        \n",
        "        if list(board[:,colrow]).count('X') == 3:   # Checking 0s wins (rows and columns)\n",
        "            winnersX.append(True)\n",
        "        else:\n",
        "            winnersX.append(False)\n",
        "        if list(board[colrow,:]).count('X') == 3:\n",
        "            winnersX.append(True)\n",
        "        else:\n",
        "            winnersX.append(False)\n",
        "\n",
        "            \n",
        "    if list([board[0,0], board[1,1], board[2,2]]).count('O') == 3:   # Checking 1s wins (diagonals)\n",
        "        winnersO.append(True)\n",
        "    else:\n",
        "        winnersO.append(False)\n",
        "    if list([board[0,2], board[1,1], board[2,0]]).count('O') == 3:\n",
        "        winnersO.append(True)\n",
        "    else:\n",
        "        winnersO.append(False)\n",
        "    \n",
        "    if list([board[0,0], board[1,1], board[2,2]]).count('X') == 3:   # Checking 0s wins (diagonals)\n",
        "        winnersX.append(True)\n",
        "    else:\n",
        "        winnersX.append(False)\n",
        "    if list([board[0,2], board[1,1], board[2,0]]).count('X') == 3:\n",
        "        winnersX.append(True)\n",
        "    else:\n",
        "        winnersX.append(False)\n",
        "    \n",
        "    \n",
        "    return [any(winnersO), any(winnersX)]   # Check to see if any wins\n",
        "\n",
        "check_win(board)"
      ]
    },
    {
      "cell_type": "code",
      "execution_count": 5,
      "id": "977f7844",
      "metadata": {
        "id": "977f7844"
      },
      "outputs": [],
      "source": [
        "board = np.full((3,3), None)\n",
        "\n",
        "def make_moveO(board):\n",
        "    \"\"\"Makes a move for 1s at random.\n",
        "    OUTPUT: Updated board.\"\"\"\n",
        "    if np.count_nonzero(board == None) == 0:   # Check if any moves possible\n",
        "        return board\n",
        "    \n",
        "    play_position = random.randint(0, 3, 2)   # Produces a random position to play\n",
        "    if board[play_position[0], play_position[1]] == None:\n",
        "        board[play_position[0], play_position[1]] = 'O'   # If free space, claims that location\n",
        "    else:\n",
        "        make_moveO(board)   # If not, try again by re-calling the function\n",
        "    \n",
        "    return board\n",
        "\n",
        "\n",
        "def make_moveX(board):\n",
        "    \"\"\"Makes a move for 0s at random.\n",
        "    OUTPUT: Updated board.\"\"\"\n",
        "    if np.count_nonzero(board == None) == 0:\n",
        "        return board\n",
        "    \n",
        "    play_position = random.randint(0, 3, 2)\n",
        "    if board[play_position[0], play_position[1]] == None:\n",
        "        board[play_position[0], play_position[1]] = 'X'\n",
        "    else:\n",
        "        make_moveX(board)\n",
        "    \n",
        "    return board"
      ]
    },
    {
      "cell_type": "code",
      "execution_count": 6,
      "id": "b915d2f1",
      "metadata": {
        "id": "b915d2f1",
        "outputId": "5f2a34d3-b59a-4ef9-eade-fcd8f838fc0a",
        "colab": {
          "base_uri": "https://localhost:8080/"
        }
      },
      "outputs": [
        {
          "output_type": "stream",
          "name": "stdout",
          "text": [
            "[[None None None]\n",
            " [None None None]\n",
            " ['X' None None]]\n"
          ]
        },
        {
          "output_type": "execute_result",
          "data": {
            "text/plain": [
              "[False, False]"
            ]
          },
          "metadata": {},
          "execution_count": 6
        }
      ],
      "source": [
        "make_moveX(board)\n",
        "print(board)\n",
        "check_win(board)"
      ]
    },
    {
      "cell_type": "code",
      "execution_count": 7,
      "id": "4e9b2b3c",
      "metadata": {
        "id": "4e9b2b3c"
      },
      "outputs": [],
      "source": [
        "def simulate_game():\n",
        "    \"\"\"Simulates a game of random moves. \n",
        "    OUTPUT: Final board, [1s win?, 0s win?].\"\"\"\n",
        "    board = np.full((3,3), None)\n",
        "    win = 0\n",
        "    while win == 0:\n",
        "        \n",
        "        if np.count_nonzero(board == None) == 0:\n",
        "            return board, [False, False]   # No winner\n",
        "        \n",
        "        make_moveO(board)\n",
        "        win += sum(check_win(board))\n",
        "        make_moveX(board)\n",
        "        win += sum(check_win(board))\n",
        "        \n",
        "    if win == 1:\n",
        "        return board, [False, True]   # 0s win\n",
        "    \n",
        "    if win > 1:\n",
        "        return board, [True, False]   # 1s win"
      ]
    },
    {
      "cell_type": "code",
      "execution_count": 8,
      "id": "a898bc1f",
      "metadata": {
        "id": "a898bc1f",
        "outputId": "4e14513e-c954-4785-e1c4-30ae569de289",
        "colab": {
          "base_uri": "https://localhost:8080/"
        }
      },
      "outputs": [
        {
          "output_type": "stream",
          "name": "stdout",
          "text": [
            "[['O' 'X' 'X']\n",
            " ['O' None 'X']\n",
            " ['O' 'O' 'X']] [True, False]\n"
          ]
        }
      ],
      "source": [
        "final_board, winner = simulate_game()\n",
        "print(final_board, winner)"
      ]
    },
    {
      "cell_type": "code",
      "execution_count": 8,
      "id": "68a8d763",
      "metadata": {
        "id": "68a8d763"
      },
      "outputs": [],
      "source": []
    },
    {
      "cell_type": "code",
      "execution_count": 9,
      "id": "e985706c",
      "metadata": {
        "id": "e985706c"
      },
      "outputs": [],
      "source": [
        "WINNING_MOVE = dict()   # Want to store the situations where you are 1 move away from winning\n",
        "\n",
        "def simulate_game_winning_move():\n",
        "    \"\"\"Simulates a game of random moves. \n",
        "    OUTPUT: Final board, [Os win?, Xs win?].\"\"\"\n",
        "    global WINNING_MOVE\n",
        "    \n",
        "    board = np.full((3,3), None)\n",
        "    win = 0\n",
        "    while win == 0:   # Each round\n",
        "        \n",
        "        if np.count_nonzero(board == None) == 0:\n",
        "            return board, [False, False]   # No winner\n",
        "        \n",
        "        prev_board = tuple(board.flatten())   # Store the board before the next move (as flattened list)\n",
        "        \n",
        "        make_moveO(board)   # Make the move\n",
        "        if sum(check_win(board)) == 1:   # Check if winning move\n",
        "            current_board = tuple(board.flatten())\n",
        "            \n",
        "            if prev_board in WINNING_MOVE:  \n",
        "                if list(current_board) not in list(WINNING_MOVE[prev_board]):\n",
        "                    WINNING_MOVE[prev_board] = tuple(list(WINNING_MOVE[prev_board]) + list(current_board))   # Log before and after winning move\n",
        "            else:     \n",
        "                WINNING_MOVE[prev_board] = current_board\n",
        "            return board, [True, False]   # Return as before\n",
        "        \n",
        "        make_moveX(board)\n",
        "        if sum(check_win(board)) == 1:\n",
        "            current_board = tuple(board.flatten())\n",
        "            \n",
        "            if prev_board in WINNING_MOVE:  \n",
        "                if list(current_board) not in list(WINNING_MOVE[prev_board]):\n",
        "                    WINNING_MOVE[prev_board] = tuple(list(WINNING_MOVE[prev_board]) + list(current_board))   # Log before and after winning move\n",
        "            else:     \n",
        "                WINNING_MOVE[prev_board] = current_board\n",
        "            return board, [False, True]"
      ]
    },
    {
      "cell_type": "code",
      "execution_count": 10,
      "id": "d69bdf6f",
      "metadata": {
        "id": "d69bdf6f",
        "outputId": "62eb0d89-4497-4f0e-a485-176b28444046",
        "colab": {
          "base_uri": "https://localhost:8080/"
        }
      },
      "outputs": [
        {
          "output_type": "execute_result",
          "data": {
            "text/plain": [
              "(array([['O', 'X', 'O'],\n",
              "        ['X', 'O', 'X'],\n",
              "        ['X', 'O', 'O']], dtype=object),\n",
              " [True, False])"
            ]
          },
          "metadata": {},
          "execution_count": 10
        }
      ],
      "source": [
        "simulate_game_winning_move()"
      ]
    },
    {
      "cell_type": "code",
      "execution_count": 11,
      "id": "f6034f04",
      "metadata": {
        "id": "f6034f04"
      },
      "outputs": [],
      "source": [
        "def simulate_game_winning_move():\n",
        "    \"\"\"Simulates a game of random moves. \n",
        "    OUTPUT: Final board, [Os win?, Xs win?].\"\"\"\n",
        "    global WINNING_MOVE\n",
        "    \n",
        "    board = np.full((3,3), None)\n",
        "    win = 0\n",
        "    while win == 0:   # Each round\n",
        "        \n",
        "        if np.count_nonzero(board == None) == 0:\n",
        "            return board, [False, False]   # No winner\n",
        "        \n",
        "        prev_board = tuple(board.flatten())   # Store the board before the next move (as flattened list)\n",
        "        \n",
        "        make_moveO(board)   # Make the move\n",
        "        if sum(check_win(board)) == 1:   # Check if winning move\n",
        "            current_board = tuple(board.flatten())\n",
        "            \n",
        "            if current_board in WINNING_MOVE:  \n",
        "                if list(prev_board) not in list(WINNING_MOVE[current_board]):\n",
        "                    WINNING_MOVE[current_board] = tuple(list(WINNING_MOVE[current_board]) + list(prev_board))   # Log before and after winning move\n",
        "            else:     \n",
        "                WINNING_MOVE[current_board] = prev_board\n",
        "            return board, [True, False]   # Return as before\n",
        "            \n",
        "        \n",
        "        make_moveX(board)\n",
        "        if sum(check_win(board)) == 1:\n",
        "            current_board = tuple(board.flatten())\n",
        "            \n",
        "            if current_board in WINNING_MOVE:  \n",
        "                if list(prev_board) not in list(WINNING_MOVE[current_board]):\n",
        "                    WINNING_MOVE[current_board] = tuple(list(WINNING_MOVE[current_board]) + list(prev_board))   # Log before and after winning move\n",
        "            else:     \n",
        "                WINNING_MOVE[current_board] = prev_board\n",
        "            return board, [False, True]\n",
        "            "
      ]
    },
    {
      "cell_type": "code",
      "execution_count": 12,
      "id": "483b7d9d",
      "metadata": {
        "id": "483b7d9d"
      },
      "outputs": [],
      "source": [
        "for _ in range(100000):\n",
        "    simulate_game_winning_move()"
      ]
    },
    {
      "cell_type": "code",
      "execution_count": 13,
      "id": "18aa1ad4",
      "metadata": {
        "id": "18aa1ad4",
        "outputId": "456dc4b5-53dc-4871-b470-20e325d05ce1",
        "colab": {
          "base_uri": "https://localhost:8080/"
        }
      },
      "outputs": [
        {
          "output_type": "execute_result",
          "data": {
            "text/plain": [
              "943"
            ]
          },
          "metadata": {},
          "execution_count": 13
        }
      ],
      "source": [
        "len(WINNING_MOVE)"
      ]
    },
    {
      "cell_type": "code",
      "execution_count": 17,
      "id": "3624ffee",
      "metadata": {
        "id": "3624ffee",
        "outputId": "83454f57-11fc-4c76-c788-97b33e0d2181",
        "colab": {
          "base_uri": "https://localhost:8080/"
        }
      },
      "outputs": [
        {
          "output_type": "stream",
          "name": "stdout",
          "text": [
            "[['X' 'O' 'X']\n",
            " ['X' 'O' 'O']\n",
            " ['X' 'O' None]] [True, False]\n"
          ]
        }
      ],
      "source": [
        "board, win = simulate_game()\n",
        "print(board, win)"
      ]
    },
    {
      "cell_type": "code",
      "execution_count": 18,
      "id": "7b0701cd",
      "metadata": {
        "id": "7b0701cd",
        "outputId": "d85dec33-0e92-43e7-d062-65f3ace45792",
        "colab": {
          "base_uri": "https://localhost:8080/",
          "height": 232
        }
      },
      "outputs": [
        {
          "output_type": "error",
          "ename": "KeyError",
          "evalue": "ignored",
          "traceback": [
            "\u001b[0;31m---------------------------------------------------------------------------\u001b[0m",
            "\u001b[0;31mKeyError\u001b[0m                                  Traceback (most recent call last)",
            "\u001b[0;32m<ipython-input-18-a82f32eef539>\u001b[0m in \u001b[0;36m<cell line: 1>\u001b[0;34m()\u001b[0m\n\u001b[0;32m----> 1\u001b[0;31m \u001b[0mprev_options\u001b[0m \u001b[0;34m=\u001b[0m \u001b[0mlist\u001b[0m\u001b[0;34m(\u001b[0m\u001b[0mWINNING_MOVE\u001b[0m\u001b[0;34m[\u001b[0m\u001b[0mtuple\u001b[0m\u001b[0;34m(\u001b[0m\u001b[0mboard\u001b[0m\u001b[0;34m.\u001b[0m\u001b[0mflatten\u001b[0m\u001b[0;34m(\u001b[0m\u001b[0;34m)\u001b[0m\u001b[0;34m)\u001b[0m\u001b[0;34m]\u001b[0m\u001b[0;34m)\u001b[0m\u001b[0;34m\u001b[0m\u001b[0;34m\u001b[0m\u001b[0m\n\u001b[0m\u001b[1;32m      2\u001b[0m \u001b[0mnumber_options\u001b[0m \u001b[0;34m=\u001b[0m \u001b[0mlen\u001b[0m\u001b[0;34m(\u001b[0m\u001b[0mprev_options\u001b[0m\u001b[0;34m)\u001b[0m\u001b[0;34m//\u001b[0m\u001b[0;36m9\u001b[0m\u001b[0;34m\u001b[0m\u001b[0;34m\u001b[0m\u001b[0m\n\u001b[1;32m      3\u001b[0m \u001b[0;31m#print(prev_options)\u001b[0m\u001b[0;34m\u001b[0m\u001b[0;34m\u001b[0m\u001b[0m\n\u001b[1;32m      4\u001b[0m \u001b[0;32mfor\u001b[0m \u001b[0mi\u001b[0m \u001b[0;32min\u001b[0m \u001b[0mrange\u001b[0m\u001b[0;34m(\u001b[0m\u001b[0mnumber_options\u001b[0m\u001b[0;34m)\u001b[0m\u001b[0;34m:\u001b[0m\u001b[0;34m\u001b[0m\u001b[0;34m\u001b[0m\u001b[0m\n\u001b[1;32m      5\u001b[0m     \u001b[0mparticular\u001b[0m \u001b[0;34m=\u001b[0m \u001b[0mprev_options\u001b[0m\u001b[0;34m[\u001b[0m\u001b[0;36m9\u001b[0m\u001b[0;34m*\u001b[0m\u001b[0mi\u001b[0m\u001b[0;34m:\u001b[0m \u001b[0;36m9\u001b[0m\u001b[0;34m*\u001b[0m\u001b[0;34m(\u001b[0m\u001b[0mi\u001b[0m\u001b[0;34m+\u001b[0m\u001b[0;36m1\u001b[0m\u001b[0;34m)\u001b[0m\u001b[0;34m]\u001b[0m\u001b[0;34m\u001b[0m\u001b[0;34m\u001b[0m\u001b[0m\n",
            "\u001b[0;31mKeyError\u001b[0m: ('X', 'O', 'X', 'X', 'O', 'O', 'X', 'O', None)"
          ]
        }
      ],
      "source": [
        "prev_options = list(WINNING_MOVE[tuple(board.flatten())])\n",
        "number_options = len(prev_options)//9\n",
        "#print(prev_options)\n",
        "for i in range(number_options):\n",
        "    particular = prev_options[9*i: 9*(i+1)]\n",
        "    prev_board = array([particular[:3], particular[3: 6], particular[6:]])\n",
        "    print(prev_board, \"\\n\")"
      ]
    },
    {
      "cell_type": "code",
      "execution_count": 19,
      "id": "75c513cf",
      "metadata": {
        "id": "75c513cf"
      },
      "outputs": [],
      "source": [
        "# Getting many repeated boards in the dictionary...\n",
        "# Need to check still useful to have key as winning board and value as boards leading to such win\n",
        "# Find out why we have more 'None' values than expected"
      ]
    },
    {
      "cell_type": "markdown",
      "source": [
        "Is this change saved?"
      ],
      "metadata": {
        "id": "MZ7eZc0ldW3b"
      },
      "id": "MZ7eZc0ldW3b"
    },
    {
      "cell_type": "code",
      "source": [
        "print(\"Test if changes saved\")"
      ],
      "metadata": {
        "id": "axerbvC8dToi",
        "outputId": "f3651a62-1a64-4992-f0fb-f1d99bcc532a",
        "colab": {
          "base_uri": "https://localhost:8080/"
        }
      },
      "id": "axerbvC8dToi",
      "execution_count": 21,
      "outputs": [
        {
          "output_type": "stream",
          "name": "stdout",
          "text": [
            "Test if changes saved\n"
          ]
        }
      ]
    },
    {
      "cell_type": "code",
      "source": [],
      "metadata": {
        "id": "GDf4-vwQddz4"
      },
      "id": "GDf4-vwQddz4",
      "execution_count": null,
      "outputs": []
    }
  ],
  "metadata": {
    "kernelspec": {
      "display_name": "Python 3 (ipykernel)",
      "language": "python",
      "name": "python3"
    },
    "language_info": {
      "codemirror_mode": {
        "name": "ipython",
        "version": 3
      },
      "file_extension": ".py",
      "mimetype": "text/x-python",
      "name": "python",
      "nbconvert_exporter": "python",
      "pygments_lexer": "ipython3",
      "version": "3.9.12"
    },
    "colab": {
      "provenance": []
    }
  },
  "nbformat": 4,
  "nbformat_minor": 5
}